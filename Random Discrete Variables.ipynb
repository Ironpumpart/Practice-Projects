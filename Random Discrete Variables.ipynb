{
 "cells": [
  {
   "cell_type": "code",
   "execution_count": 1,
   "id": "4a6b7e0d",
   "metadata": {},
   "outputs": [],
   "source": [
    "import scipy\n",
    "import numpy as np"
   ]
  },
  {
   "cell_type": "code",
   "execution_count": 2,
   "id": "df1d2101",
   "metadata": {},
   "outputs": [],
   "source": [
    "from scipy.stats import binom"
   ]
  },
  {
   "cell_type": "code",
   "execution_count": 4,
   "id": "c91044a6",
   "metadata": {},
   "outputs": [
    {
     "name": "stdout",
     "output_type": "stream",
     "text": [
      "0.24366824454460473\n"
     ]
    }
   ],
   "source": [
    "print(binom.pmf(k=2, n=100, p=0.014))"
   ]
  },
  {
   "cell_type": "code",
   "execution_count": 5,
   "id": "6e92eae3",
   "metadata": {},
   "outputs": [
    {
     "name": "stdout",
     "output_type": "stream",
     "text": [
      "0.035881817158958745\n"
     ]
    }
   ],
   "source": [
    "print (binom.pmf(k=14, n=30, p=0.32))"
   ]
  },
  {
   "cell_type": "code",
   "execution_count": 6,
   "id": "b0524a97",
   "metadata": {},
   "outputs": [
    {
     "name": "stdout",
     "output_type": "stream",
     "text": [
      "0.969502741051762\n"
     ]
    }
   ],
   "source": [
    "print (binom.cdf(k=14, n=30, p=0.32))"
   ]
  },
  {
   "cell_type": "code",
   "execution_count": 7,
   "id": "bf0ab06c",
   "metadata": {},
   "outputs": [
    {
     "name": "stdout",
     "output_type": "stream",
     "text": [
      "0.9994577014370416\n"
     ]
    }
   ],
   "source": [
    "print (binom.cdf(k=6, n=100, p=0.014))"
   ]
  },
  {
   "cell_type": "code",
   "execution_count": 9,
   "id": "ff6631e6",
   "metadata": {},
   "outputs": [
    {
     "name": "stdout",
     "output_type": "stream",
     "text": [
      "0.052451283694614936\n"
     ]
    }
   ],
   "source": [
    "print (1-(binom.cdf(k=3, n=100, p=0.014)))"
   ]
  },
  {
   "cell_type": "code",
   "execution_count": 10,
   "id": "9dc54b83",
   "metadata": {},
   "outputs": [
    {
     "name": "stdout",
     "output_type": "stream",
     "text": [
      "0.04046360361104896\n"
     ]
    }
   ],
   "source": [
    "print (binom.pmf(k=25, n=50, p=0.6))"
   ]
  },
  {
   "cell_type": "code",
   "execution_count": 11,
   "id": "c2e9491b",
   "metadata": {},
   "outputs": [
    {
     "name": "stdout",
     "output_type": "stream",
     "text": [
      "0.0033603822630227493\n"
     ]
    }
   ],
   "source": [
    "print (binom.cdf(k=20, n=50, p=0.6))"
   ]
  },
  {
   "cell_type": "code",
   "execution_count": 12,
   "id": "b64486f1",
   "metadata": {},
   "outputs": [
    {
     "name": "stdout",
     "output_type": "stream",
     "text": [
      "0.4464763792105426\n"
     ]
    }
   ],
   "source": [
    "print (1-(binom.cdf(k=30, n=50, p=0.6)))"
   ]
  },
  {
   "cell_type": "code",
   "execution_count": 13,
   "id": "eff8e9d6",
   "metadata": {},
   "outputs": [
    {
     "name": "stdout",
     "output_type": "stream",
     "text": [
      "0.9987808390614407\n"
     ]
    }
   ],
   "source": [
    "print (binom.cdf(k=8, n=200, p=0.0128))"
   ]
  },
  {
   "cell_type": "code",
   "execution_count": 14,
   "id": "3450b761",
   "metadata": {},
   "outputs": [
    {
     "name": "stdout",
     "output_type": "stream",
     "text": [
      "0.07065497815138998\n"
     ]
    }
   ],
   "source": [
    "print (binom.pmf(k=5, n=200, p=0.0128))"
   ]
  },
  {
   "cell_type": "code",
   "execution_count": 15,
   "id": "394e06fb",
   "metadata": {},
   "outputs": [
    {
     "name": "stdout",
     "output_type": "stream",
     "text": [
      "0.02977357264078019\n"
     ]
    }
   ],
   "source": [
    "print (binom.pmf(k=6, n=200, p=0.0128))"
   ]
  },
  {
   "cell_type": "code",
   "execution_count": 16,
   "id": "5ea25ab2",
   "metadata": {},
   "outputs": [
    {
     "name": "stdout",
     "output_type": "stream",
     "text": [
      "0.003550389722501306\n"
     ]
    }
   ],
   "source": [
    "print (binom.pmf(k=60, n=80, p=0.613))"
   ]
  },
  {
   "cell_type": "code",
   "execution_count": 17,
   "id": "d136c70a",
   "metadata": {},
   "outputs": [
    {
     "name": "stdout",
     "output_type": "stream",
     "text": [
      "0.37180667213498375\n"
     ]
    }
   ],
   "source": [
    "print (1-(binom.cdf(k=50, n=80, p=0.613)))"
   ]
  },
  {
   "cell_type": "code",
   "execution_count": 3,
   "id": "d92ac3b2",
   "metadata": {},
   "outputs": [],
   "source": [
    "from scipy.stats import geom"
   ]
  },
  {
   "cell_type": "code",
   "execution_count": 21,
   "id": "efddd1be",
   "metadata": {},
   "outputs": [
    {
     "name": "stdout",
     "output_type": "stream",
     "text": [
      "0.01771684761728\n"
     ]
    }
   ],
   "source": [
    "print (geom.pmf(7, 0.02))"
   ]
  },
  {
   "cell_type": "code",
   "execution_count": 22,
   "id": "75fb3d12",
   "metadata": {},
   "outputs": [
    {
     "name": "stdout",
     "output_type": "stream",
     "text": [
      "0.13187446675328\n"
     ]
    }
   ],
   "source": [
    "print (geom.cdf(7, 0.02))"
   ]
  },
  {
   "cell_type": "code",
   "execution_count": 23,
   "id": "a8495726",
   "metadata": {},
   "outputs": [
    {
     "name": "stdout",
     "output_type": "stream",
     "text": [
      "49.04\n"
     ]
    }
   ],
   "source": [
    "print (binom.mean(n=80, p=0.613))"
   ]
  },
  {
   "cell_type": "code",
   "execution_count": 24,
   "id": "7518fef0",
   "metadata": {},
   "outputs": [
    {
     "name": "stdout",
     "output_type": "stream",
     "text": [
      "50.0\n"
     ]
    }
   ],
   "source": [
    "print (geom.mean(p=0.02))"
   ]
  },
  {
   "cell_type": "code",
   "execution_count": 26,
   "id": "21ebc09e",
   "metadata": {},
   "outputs": [
    {
     "name": "stdout",
     "output_type": "stream",
     "text": [
      "0.0092274469442792\n"
     ]
    }
   ],
   "source": [
    "print (geom.pmf(9, 0.01))"
   ]
  },
  {
   "cell_type": "code",
   "execution_count": 27,
   "id": "257095f7",
   "metadata": {},
   "outputs": [
    {
     "name": "stdout",
     "output_type": "stream",
     "text": [
      "0.011398725357989001\n"
     ]
    }
   ],
   "source": [
    "print (geom.pmf(10, 0.0128))"
   ]
  },
  {
   "cell_type": "code",
   "execution_count": 28,
   "id": "2bc35c8b",
   "metadata": {},
   "outputs": [
    {
     "name": "stdout",
     "output_type": "stream",
     "text": [
      "0.010020923731061693\n"
     ]
    }
   ],
   "source": [
    "print (geom.pmf(20, 0.0128))"
   ]
  },
  {
   "cell_type": "code",
   "execution_count": 30,
   "id": "6ca94bce",
   "metadata": {},
   "outputs": [
    {
     "name": "stdout",
     "output_type": "stream",
     "text": [
      "78.125\n"
     ]
    }
   ],
   "source": [
    "print (geom.mean(0.0128))"
   ]
  },
  {
   "cell_type": "code",
   "execution_count": 31,
   "id": "c5bf48b0",
   "metadata": {},
   "outputs": [
    {
     "name": "stdout",
     "output_type": "stream",
     "text": [
      "0.0719634432\n"
     ]
    }
   ],
   "source": [
    "print (geom.pmf(5, 0.12))"
   ]
  },
  {
   "cell_type": "code",
   "execution_count": 32,
   "id": "cb456dcf",
   "metadata": {},
   "outputs": [
    {
     "name": "stdout",
     "output_type": "stream",
     "text": [
      "0.037977405819463926\n"
     ]
    }
   ],
   "source": [
    "print (geom.pmf(10, 0.12))"
   ]
  },
  {
   "cell_type": "code",
   "execution_count": 35,
   "id": "ebfa973a",
   "metadata": {},
   "outputs": [
    {
     "name": "stdout",
     "output_type": "stream",
     "text": [
      "0.47226808319999997\n"
     ]
    }
   ],
   "source": [
    "print (geom.cdf(5, 0.12))"
   ]
  },
  {
   "cell_type": "code",
   "execution_count": 36,
   "id": "9a79a4ba",
   "metadata": {},
   "outputs": [
    {
     "name": "stdout",
     "output_type": "stream",
     "text": [
      "8.333333333333334\n"
     ]
    }
   ],
   "source": [
    "print (geom.mean(0.12))"
   ]
  },
  {
   "cell_type": "code",
   "execution_count": 4,
   "id": "d39e296a",
   "metadata": {},
   "outputs": [],
   "source": [
    "from scipy.stats import hypergeom"
   ]
  },
  {
   "cell_type": "code",
   "execution_count": 4,
   "id": "19e8f2b5",
   "metadata": {},
   "outputs": [
    {
     "name": "stdout",
     "output_type": "stream",
     "text": [
      "0.45454545454545453\n"
     ]
    }
   ],
   "source": [
    "print (hypergeom.pmf(2, 11, 4, 6))"
   ]
  },
  {
   "cell_type": "code",
   "execution_count": 8,
   "id": "b9c11ebc",
   "metadata": {},
   "outputs": [
    {
     "name": "stdout",
     "output_type": "stream",
     "text": [
      "2.1818181818181817\n"
     ]
    }
   ],
   "source": [
    "print (hypergeom.mean(11, 4, 6))"
   ]
  },
  {
   "cell_type": "code",
   "execution_count": 12,
   "id": "bb4ef48a",
   "metadata": {},
   "outputs": [
    {
     "name": "stdout",
     "output_type": "stream",
     "text": [
      "0.24366824454460473\n"
     ]
    }
   ],
   "source": [
    "print (binom.pmf(2, 100, 0.014))"
   ]
  },
  {
   "cell_type": "code",
   "execution_count": 14,
   "id": "310e200e",
   "metadata": {},
   "outputs": [
    {
     "name": "stdout",
     "output_type": "stream",
     "text": [
      "0.6515151515151515\n"
     ]
    }
   ],
   "source": [
    "print (hypergeom.cdf(2, 11, 4, 6))"
   ]
  },
  {
   "cell_type": "code",
   "execution_count": 15,
   "id": "fcc1b66c",
   "metadata": {},
   "outputs": [
    {
     "name": "stdout",
     "output_type": "stream",
     "text": [
      "0.16781083142639208\n"
     ]
    }
   ],
   "source": [
    "print (hypergeom.pmf(7, 27, 10, 15))"
   ]
  },
  {
   "cell_type": "code",
   "execution_count": 16,
   "id": "0075abf7",
   "metadata": {},
   "outputs": [
    {
     "name": "stdout",
     "output_type": "stream",
     "text": [
      "5.555555555555555\n"
     ]
    }
   ],
   "source": [
    "print (hypergeom.mean(27,10,15))"
   ]
  },
  {
   "cell_type": "code",
   "execution_count": 3,
   "id": "f89cfc60",
   "metadata": {},
   "outputs": [],
   "source": [
    "from scipy.stats import poisson"
   ]
  },
  {
   "cell_type": "code",
   "execution_count": 6,
   "id": "89a7bbd7",
   "metadata": {},
   "outputs": [
    {
     "name": "stdout",
     "output_type": "stream",
     "text": [
      "0.17335853270322432\n"
     ]
    }
   ],
   "source": [
    "print (1-(poisson.cdf(1, 0.75)))"
   ]
  },
  {
   "cell_type": "code",
   "execution_count": 7,
   "id": "5782a0d2",
   "metadata": {},
   "outputs": [
    {
     "name": "stdout",
     "output_type": "stream",
     "text": [
      "0.052653017343711084\n"
     ]
    }
   ],
   "source": [
    "print (1-(poisson.cdf(4, 2)))"
   ]
  },
  {
   "cell_type": "code",
   "execution_count": 8,
   "id": "2a985500",
   "metadata": {},
   "outputs": [
    {
     "name": "stdout",
     "output_type": "stream",
     "text": [
      "0.018031359792300375\n"
     ]
    }
   ],
   "source": [
    "print (poisson.pmf(160, 147))"
   ]
  },
  {
   "cell_type": "code",
   "execution_count": 9,
   "id": "77cffa2e",
   "metadata": {},
   "outputs": [
    {
     "name": "stdout",
     "output_type": "stream",
     "text": [
      "0.8666282735909683\n"
     ]
    }
   ],
   "source": [
    "print (poisson.cdf(160, 147))"
   ]
  },
  {
   "cell_type": "code",
   "execution_count": 10,
   "id": "9be3f93e",
   "metadata": {},
   "outputs": [
    {
     "name": "stdout",
     "output_type": "stream",
     "text": [
      "0.020336353185465943\n"
     ]
    }
   ],
   "source": [
    "print (poisson.pmf(175, 187))"
   ]
  },
  {
   "cell_type": "code",
   "execution_count": 11,
   "id": "b705dda7",
   "metadata": {},
   "outputs": [
    {
     "name": "stdout",
     "output_type": "stream",
     "text": [
      "0.002968176128347891\n"
     ]
    }
   ],
   "source": [
    "print (poisson.cdf(150, 187))"
   ]
  },
  {
   "cell_type": "code",
   "execution_count": 12,
   "id": "82820d43",
   "metadata": {},
   "outputs": [
    {
     "name": "stdout",
     "output_type": "stream",
     "text": [
      "0.2652640768066086\n"
     ]
    }
   ],
   "source": [
    "print (poisson.pmf(2, 1.7292))"
   ]
  },
  {
   "cell_type": "code",
   "execution_count": 13,
   "id": "ca63ce82",
   "metadata": {},
   "outputs": [
    {
     "name": "stdout",
     "output_type": "stream",
     "text": [
      "0.25050408094267707\n"
     ]
    }
   ],
   "source": [
    "print (1-(poisson.cdf(2, 1.7292)))"
   ]
  },
  {
   "cell_type": "code",
   "execution_count": 14,
   "id": "83298bb2",
   "metadata": {},
   "outputs": [
    {
     "name": "stdout",
     "output_type": "stream",
     "text": [
      "0.03663242489256377\n"
     ]
    }
   ],
   "source": [
    "print (poisson.pmf(100, 104.1666))"
   ]
  },
  {
   "cell_type": "code",
   "execution_count": 15,
   "id": "deb6b969",
   "metadata": {},
   "outputs": [
    {
     "name": "stdout",
     "output_type": "stream",
     "text": [
      "0.36506803734103793\n"
     ]
    }
   ],
   "source": [
    "print (poisson.cdf(100, 104.1666))"
   ]
  },
  {
   "cell_type": "code",
   "execution_count": 16,
   "id": "bd131ad5",
   "metadata": {},
   "outputs": [
    {
     "name": "stdout",
     "output_type": "stream",
     "text": [
      "3.901691173174446e-05\n"
     ]
    }
   ],
   "source": [
    "print (binom.pmf(10, 200, 0.0102))"
   ]
  },
  {
   "cell_type": "code",
   "execution_count": 17,
   "id": "edea887c",
   "metadata": {},
   "outputs": [
    {
     "name": "stdout",
     "output_type": "stream",
     "text": [
      "4.472783717810589e-05\n"
     ]
    }
   ],
   "source": [
    "print (poisson.pmf(10, 2.04))"
   ]
  },
  {
   "cell_type": "code",
   "execution_count": 18,
   "id": "8398d7c1",
   "metadata": {},
   "outputs": [
    {
     "name": "stdout",
     "output_type": "stream",
     "text": [
      "0.01145921984781628\n"
     ]
    }
   ],
   "source": [
    "print (binom.pmf(5, 100, 0.0143))"
   ]
  },
  {
   "cell_type": "code",
   "execution_count": 20,
   "id": "71547a91",
   "metadata": {},
   "outputs": [
    {
     "name": "stdout",
     "output_type": "stream",
     "text": [
      "0.011924984745368091\n"
     ]
    }
   ],
   "source": [
    "print (poisson.pmf(5, 1.43))"
   ]
  },
  {
   "cell_type": "code",
   "execution_count": 14,
   "id": "37d18e67",
   "metadata": {},
   "outputs": [
    {
     "name": "stdout",
     "output_type": "stream",
     "text": [
      "0.06679073747933895\n"
     ]
    }
   ],
   "source": [
    "print (binom.pmf(8, 8, 0.713))"
   ]
  },
  {
   "cell_type": "code",
   "execution_count": 16,
   "id": "2419761c",
   "metadata": {},
   "outputs": [
    {
     "name": "stdout",
     "output_type": "stream",
     "text": [
      "5.704\n"
     ]
    }
   ],
   "source": [
    "print (binom.mean(8, 0.713))"
   ]
  },
  {
   "cell_type": "code",
   "execution_count": 17,
   "id": "b912b787",
   "metadata": {},
   "outputs": [
    {
     "name": "stdout",
     "output_type": "stream",
     "text": [
      "0.9990391123828222\n"
     ]
    }
   ],
   "source": [
    "print (1-(binom.cdf(2, 8, 0.713))+(binom.pmf(2, 8, 0.713)))"
   ]
  },
  {
   "cell_type": "code",
   "execution_count": 18,
   "id": "895f88e5",
   "metadata": {},
   "outputs": [
    {
     "name": "stdout",
     "output_type": "stream",
     "text": [
      "0.4151185481748303\n"
     ]
    }
   ],
   "source": [
    "print (binom.cdf(5, 8, 0.713))"
   ]
  },
  {
   "cell_type": "code",
   "execution_count": 24,
   "id": "ce65c0f5",
   "metadata": {},
   "outputs": [
    {
     "name": "stdout",
     "output_type": "stream",
     "text": [
      "0.0013883501563575918\n"
     ]
    }
   ],
   "source": [
    "print (geom.pmf(6, 0.713))"
   ]
  },
  {
   "cell_type": "code",
   "execution_count": 25,
   "id": "95fa440a",
   "metadata": {},
   "outputs": [
    {
     "name": "stdout",
     "output_type": "stream",
     "text": [
      "1.402524544179523\n"
     ]
    }
   ],
   "source": [
    "print (geom.mean(0.713))"
   ]
  },
  {
   "cell_type": "code",
   "execution_count": 26,
   "id": "c805bafa",
   "metadata": {},
   "outputs": [
    {
     "name": "stdout",
     "output_type": "stream",
     "text": [
      "0.917631\n"
     ]
    }
   ],
   "source": [
    "print (geom.cdf(2, 0.713))"
   ]
  },
  {
   "cell_type": "code",
   "execution_count": 27,
   "id": "f2d305d5",
   "metadata": {},
   "outputs": [
    {
     "name": "stdout",
     "output_type": "stream",
     "text": [
      "6.260869565217392\n"
     ]
    }
   ],
   "source": [
    "print (hypergeom.mean(23, 9, 16))"
   ]
  },
  {
   "cell_type": "code",
   "execution_count": 28,
   "id": "6cb22119",
   "metadata": {},
   "outputs": [
    {
     "name": "stdout",
     "output_type": "stream",
     "text": [
      "0.0010114761989159114\n"
     ]
    }
   ],
   "source": [
    "print (poisson.pmf(150, 120))"
   ]
  },
  {
   "cell_type": "code",
   "execution_count": 29,
   "id": "933ab73b",
   "metadata": {},
   "outputs": [
    {
     "name": "stdout",
     "output_type": "stream",
     "text": [
      "0.04853865880903058\n"
     ]
    }
   ],
   "source": [
    "print (poisson.pmf(35, 40))"
   ]
  },
  {
   "cell_type": "code",
   "execution_count": 30,
   "id": "37022af7",
   "metadata": {},
   "outputs": [
    {
     "name": "stdout",
     "output_type": "stream",
     "text": [
      "0.20844352360512552\n"
     ]
    }
   ],
   "source": [
    "print (1-(poisson.cdf(12, 10)))"
   ]
  },
  {
   "cell_type": "code",
   "execution_count": 31,
   "id": "b061257a",
   "metadata": {},
   "outputs": [
    {
     "name": "stdout",
     "output_type": "stream",
     "text": [
      "0.02138682158728023\n"
     ]
    }
   ],
   "source": [
    "print (poisson.cdf(11, 20))"
   ]
  },
  {
   "cell_type": "code",
   "execution_count": 32,
   "id": "077fc03f",
   "metadata": {},
   "outputs": [
    {
     "name": "stdout",
     "output_type": "stream",
     "text": [
      "0.00033546262790251185\n"
     ]
    }
   ],
   "source": [
    "print (poisson.pmf(0, 8))"
   ]
  },
  {
   "cell_type": "code",
   "execution_count": 33,
   "id": "9e9edb6a",
   "metadata": {},
   "outputs": [
    {
     "name": "stdout",
     "output_type": "stream",
     "text": [
      "9.396790369176067e-05\n"
     ]
    }
   ],
   "source": [
    "print (1-(poisson.cdf(20, 8)))"
   ]
  },
  {
   "cell_type": "code",
   "execution_count": 6,
   "id": "a10b3484",
   "metadata": {},
   "outputs": [
    {
     "name": "stdout",
     "output_type": "stream",
     "text": [
      "0.2709415984759836\n"
     ]
    }
   ],
   "source": [
    "print (binom.pmf(2, 1000, 0.002))"
   ]
  },
  {
   "cell_type": "code",
   "execution_count": 7,
   "id": "e680159d",
   "metadata": {},
   "outputs": [],
   "source": [
    "x=(binom.pmf(4, 25, 0.04))"
   ]
  },
  {
   "cell_type": "code",
   "execution_count": 9,
   "id": "4495cc16",
   "metadata": {},
   "outputs": [
    {
     "data": {
      "text/plain": [
       "0.013741254546000723"
      ]
     },
     "execution_count": 9,
     "metadata": {},
     "output_type": "execute_result"
    }
   ],
   "source": [
    "x"
   ]
  },
  {
   "cell_type": "code",
   "execution_count": 10,
   "id": "687796c3",
   "metadata": {},
   "outputs": [
    {
     "name": "stdout",
     "output_type": "stream",
     "text": [
      "0.016521575032415914\n"
     ]
    }
   ],
   "source": [
    "print (x+(1-(binom.cdf(4, 25, 0.04))))"
   ]
  },
  {
   "cell_type": "code",
   "execution_count": 11,
   "id": "64031692",
   "metadata": {},
   "outputs": [
    {
     "name": "stdout",
     "output_type": "stream",
     "text": [
      "1.0\n"
     ]
    }
   ],
   "source": [
    "print (binom.mean(25, 0.04))"
   ]
  },
  {
   "cell_type": "code",
   "execution_count": 6,
   "id": "7be61c17",
   "metadata": {},
   "outputs": [
    {
     "name": "stdout",
     "output_type": "stream",
     "text": [
      "2.16\n"
     ]
    }
   ],
   "source": [
    "print (binom.mean(12, 0.18))"
   ]
  },
  {
   "cell_type": "code",
   "execution_count": 7,
   "id": "06eb30f1",
   "metadata": {},
   "outputs": [
    {
     "name": "stdout",
     "output_type": "stream",
     "text": [
      "0.9510694042742347\n"
     ]
    }
   ],
   "source": [
    "print (binom.cdf(4, 12, 0.18))"
   ]
  },
  {
   "cell_type": "code",
   "execution_count": 8,
   "id": "c3055be5",
   "metadata": {},
   "outputs": [
    {
     "name": "stdout",
     "output_type": "stream",
     "text": [
      "0.37021312041862875\n"
     ]
    }
   ],
   "source": [
    "print (1-(binom.cdf(2, 12, 0.18)))"
   ]
  },
  {
   "cell_type": "code",
   "execution_count": 9,
   "id": "eca15661",
   "metadata": {},
   "outputs": [
    {
     "name": "stdout",
     "output_type": "stream",
     "text": [
      "4.4328\n"
     ]
    }
   ],
   "source": [
    "print (binom.mean(12, 0.3694))"
   ]
  },
  {
   "cell_type": "code",
   "execution_count": 10,
   "id": "3f083bc2",
   "metadata": {},
   "outputs": [
    {
     "name": "stdout",
     "output_type": "stream",
     "text": [
      "0.14763084866069578\n"
     ]
    }
   ],
   "source": [
    "print (binom.pmf(6, 12, 0.3694))"
   ]
  },
  {
   "cell_type": "code",
   "execution_count": 11,
   "id": "1014a962",
   "metadata": {},
   "outputs": [],
   "source": [
    "a=(binom.pmf(5, 12, 0.3694))"
   ]
  },
  {
   "cell_type": "code",
   "execution_count": 12,
   "id": "1ff4f3c8",
   "metadata": {},
   "outputs": [
    {
     "name": "stdout",
     "output_type": "stream",
     "text": [
      "0.4733593335126548\n"
     ]
    }
   ],
   "source": [
    "print (a+(1-(binom.cdf(5, 12, 0.3694))))"
   ]
  },
  {
   "cell_type": "code",
   "execution_count": 13,
   "id": "f4ddb0be",
   "metadata": {},
   "outputs": [],
   "source": [
    "b=(binom.pmf(7, 10, 0.5))"
   ]
  },
  {
   "cell_type": "code",
   "execution_count": 14,
   "id": "cf3d411f",
   "metadata": {},
   "outputs": [
    {
     "name": "stdout",
     "output_type": "stream",
     "text": [
      "0.171875\n"
     ]
    }
   ],
   "source": [
    "print (b+(1-(binom.cdf(7, 10, 0.5))))"
   ]
  },
  {
   "cell_type": "code",
   "execution_count": 15,
   "id": "59135b18",
   "metadata": {},
   "outputs": [
    {
     "name": "stdout",
     "output_type": "stream",
     "text": [
      "2.1507707015366861e-07\n"
     ]
    }
   ],
   "source": [
    "print (1-(binom.cdf(24, 32, 0.33)))"
   ]
  },
  {
   "cell_type": "code",
   "execution_count": 16,
   "id": "205f599b",
   "metadata": {},
   "outputs": [
    {
     "name": "stdout",
     "output_type": "stream",
     "text": [
      "0.996\n"
     ]
    }
   ],
   "source": [
    "print (binom.mean(6, 0.166))"
   ]
  },
  {
   "cell_type": "code",
   "execution_count": 17,
   "id": "d0cfd1b4",
   "metadata": {},
   "outputs": [
    {
     "name": "stdout",
     "output_type": "stream",
     "text": [
      "2.0924183895616008e-05\n"
     ]
    }
   ],
   "source": [
    "print (binom.pmf(6, 6, 0.166))"
   ]
  },
  {
   "cell_type": "code",
   "execution_count": 18,
   "id": "5738a224",
   "metadata": {},
   "outputs": [
    {
     "name": "stdout",
     "output_type": "stream",
     "text": [
      "0.007922380781154235\n"
     ]
    }
   ],
   "source": [
    "print (binom.pmf(4, 6, 0.166))"
   ]
  },
  {
   "cell_type": "code",
   "execution_count": 19,
   "id": "fbce6b34",
   "metadata": {},
   "outputs": [
    {
     "name": "stdout",
     "output_type": "stream",
     "text": [
      "0.05307040619664769\n"
     ]
    }
   ],
   "source": [
    "print (binom.pmf(3, 6, 0.166))"
   ]
  },
  {
   "cell_type": "code",
   "execution_count": 20,
   "id": "f27517b6",
   "metadata": {},
   "outputs": [
    {
     "name": "stdout",
     "output_type": "stream",
     "text": [
      "12.48\n"
     ]
    }
   ],
   "source": [
    "print (binom.mean(13, 0.96))"
   ]
  },
  {
   "cell_type": "code",
   "execution_count": 21,
   "id": "4ea70fa6",
   "metadata": {},
   "outputs": [
    {
     "name": "stdout",
     "output_type": "stream",
     "text": [
      "0.013537290699074578\n"
     ]
    }
   ],
   "source": [
    "print (binom.cdf(10, 13, 0.96))"
   ]
  },
  {
   "cell_type": "code",
   "execution_count": 22,
   "id": "f43ff1c0",
   "metadata": {},
   "outputs": [
    {
     "name": "stdout",
     "output_type": "stream",
     "text": [
      "0.31860907381147924\n"
     ]
    }
   ],
   "source": [
    "print (binom.pmf(12, 13, 0.96))"
   ]
  },
  {
   "cell_type": "code",
   "execution_count": 23,
   "id": "923546c0",
   "metadata": {},
   "outputs": [
    {
     "name": "stdout",
     "output_type": "stream",
     "text": [
      "0.5882013670365764\n"
     ]
    }
   ],
   "source": [
    "print (binom.pmf(13, 13, 0.96))"
   ]
  },
  {
   "cell_type": "code",
   "execution_count": 24,
   "id": "ff0544d7",
   "metadata": {},
   "outputs": [
    {
     "name": "stdout",
     "output_type": "stream",
     "text": [
      "18.7\n"
     ]
    }
   ],
   "source": [
    "print (binom.mean(22, 0.85))"
   ]
  },
  {
   "cell_type": "code",
   "execution_count": 25,
   "id": "71f02446",
   "metadata": {},
   "outputs": [
    {
     "name": "stdout",
     "output_type": "stream",
     "text": [
      "0.3248747094357019\n"
     ]
    }
   ],
   "source": [
    "print ((binom.pmf(17, 22, 0.85))+(binom.pmf(18, 22, 0.85)))"
   ]
  },
  {
   "cell_type": "code",
   "execution_count": 26,
   "id": "48a90a11",
   "metadata": {},
   "outputs": [
    {
     "name": "stdout",
     "output_type": "stream",
     "text": [
      "0.028003761208561607\n"
     ]
    }
   ],
   "source": [
    "print (binom.pmf(22, 22, 0.85))"
   ]
  },
  {
   "cell_type": "code",
   "execution_count": 27,
   "id": "060ef132",
   "metadata": {},
   "outputs": [
    {
     "data": {
      "text/plain": [
       "10.0"
      ]
     },
     "execution_count": 27,
     "metadata": {},
     "output_type": "execute_result"
    }
   ],
   "source": [
    "binom.mean(25, 0.4)"
   ]
  },
  {
   "cell_type": "code",
   "execution_count": 28,
   "id": "da446276",
   "metadata": {},
   "outputs": [
    {
     "data": {
      "text/plain": [
       "0.03447838136957742"
      ]
     },
     "execution_count": 28,
     "metadata": {},
     "output_type": "execute_result"
    }
   ],
   "source": [
    "binom.pmf(6, 26, 0.4)"
   ]
  },
  {
   "cell_type": "code",
   "execution_count": 29,
   "id": "fb0a2f9b",
   "metadata": {},
   "outputs": [
    {
     "data": {
      "text/plain": [
       "1.1258999068426256e-10"
      ]
     },
     "execution_count": 29,
     "metadata": {},
     "output_type": "execute_result"
    }
   ],
   "source": [
    "binom.pmf(25, 25, 0.4)"
   ]
  },
  {
   "cell_type": "code",
   "execution_count": 30,
   "id": "f22bc587",
   "metadata": {},
   "outputs": [
    {
     "data": {
      "text/plain": [
       "4.8"
      ]
     },
     "execution_count": 30,
     "metadata": {},
     "output_type": "execute_result"
    }
   ],
   "source": [
    "binom.mean(60, 0.08)"
   ]
  },
  {
   "cell_type": "code",
   "execution_count": 31,
   "id": "fd2c8328",
   "metadata": {},
   "outputs": [
    {
     "data": {
      "text/plain": [
       "0.006718458528881668"
      ]
     },
     "execution_count": 31,
     "metadata": {},
     "output_type": "execute_result"
    }
   ],
   "source": [
    "binom.pmf(0, 60, 0.08)"
   ]
  },
  {
   "cell_type": "code",
   "execution_count": 32,
   "id": "044d471e",
   "metadata": {},
   "outputs": [
    {
     "data": {
      "text/plain": [
       "0.18731525543326144"
      ]
     },
     "execution_count": 32,
     "metadata": {},
     "output_type": "execute_result"
    }
   ],
   "source": [
    "binom.pmf(4, 60, 0.08)"
   ]
  },
  {
   "cell_type": "code",
   "execution_count": 33,
   "id": "895d1ec6",
   "metadata": {},
   "outputs": [
    {
     "data": {
      "text/plain": [
       "0.18242877050891515"
      ]
     },
     "execution_count": 33,
     "metadata": {},
     "output_type": "execute_result"
    }
   ],
   "source": [
    "binom.pmf(5, 60, 0.08)"
   ]
  },
  {
   "cell_type": "code",
   "execution_count": 34,
   "id": "2147222d",
   "metadata": {},
   "outputs": [
    {
     "data": {
      "text/plain": [
       "0.4"
      ]
     },
     "execution_count": 34,
     "metadata": {},
     "output_type": "execute_result"
    }
   ],
   "source": [
    "binom.mean(20, 0.02)"
   ]
  },
  {
   "cell_type": "code",
   "execution_count": 36,
   "id": "8ab22898",
   "metadata": {},
   "outputs": [
    {
     "data": {
      "text/plain": [
       "0.6676079717550942"
      ]
     },
     "execution_count": 36,
     "metadata": {},
     "output_type": "execute_result"
    }
   ],
   "source": [
    "binom.pmf(0, 20, 0.02)"
   ]
  },
  {
   "cell_type": "code",
   "execution_count": 37,
   "id": "3d6dff88",
   "metadata": {},
   "outputs": [
    {
     "data": {
      "text/plain": [
       "0.007068693403814108"
      ]
     },
     "execution_count": 37,
     "metadata": {},
     "output_type": "execute_result"
    }
   ],
   "source": [
    "1-(binom.cdf(2, 20, 0.02))"
   ]
  },
  {
   "cell_type": "code",
   "execution_count": 38,
   "id": "f077398e",
   "metadata": {},
   "outputs": [
    {
     "name": "stdout",
     "output_type": "stream",
     "text": [
      "0.004290894000000021\n"
     ]
    }
   ],
   "source": [
    "print ((binom.pmf(8, 11, 0.3))+(1-(binom.cdf(8, 11, 0.3))))"
   ]
  },
  {
   "cell_type": "code",
   "execution_count": 39,
   "id": "0619a8ac",
   "metadata": {},
   "outputs": [
    {
     "data": {
      "text/plain": [
       "0.019773267429999988"
      ]
     },
     "execution_count": 39,
     "metadata": {},
     "output_type": "execute_result"
    }
   ],
   "source": [
    "binom.pmf(0, 11, 0.3)"
   ]
  },
  {
   "cell_type": "code",
   "execution_count": 40,
   "id": "d05b00b5",
   "metadata": {},
   "outputs": [
    {
     "data": {
      "text/plain": [
       "1.7714699999999993e-06"
      ]
     },
     "execution_count": 40,
     "metadata": {},
     "output_type": "execute_result"
    }
   ],
   "source": [
    "binom.pmf(11, 11, 0.3)"
   ]
  },
  {
   "cell_type": "code",
   "execution_count": 41,
   "id": "40116f88",
   "metadata": {},
   "outputs": [
    {
     "data": {
      "text/plain": [
       "3.3"
      ]
     },
     "execution_count": 41,
     "metadata": {},
     "output_type": "execute_result"
    }
   ],
   "source": [
    "binom.mean(11, 0.3)"
   ]
  },
  {
   "cell_type": "code",
   "execution_count": 42,
   "id": "06289657",
   "metadata": {},
   "outputs": [
    {
     "data": {
      "text/plain": [
       "0.5800937039999999"
      ]
     },
     "execution_count": 42,
     "metadata": {},
     "output_type": "execute_result"
    }
   ],
   "source": [
    "binom.pmf(0, 3, 0.166)"
   ]
  },
  {
   "cell_type": "code",
   "execution_count": 43,
   "id": "6c624dcb",
   "metadata": {},
   "outputs": [
    {
     "data": {
      "text/plain": [
       "0.3463868879999999"
      ]
     },
     "execution_count": 43,
     "metadata": {},
     "output_type": "execute_result"
    }
   ],
   "source": [
    "binom.pmf(1, 3, 0.166)"
   ]
  },
  {
   "cell_type": "code",
   "execution_count": 44,
   "id": "03125403",
   "metadata": {},
   "outputs": [
    {
     "data": {
      "text/plain": [
       "0.068945112"
      ]
     },
     "execution_count": 44,
     "metadata": {},
     "output_type": "execute_result"
    }
   ],
   "source": [
    "binom.pmf(2, 3, 0.166)"
   ]
  },
  {
   "cell_type": "code",
   "execution_count": 45,
   "id": "db0d91b9",
   "metadata": {},
   "outputs": [
    {
     "data": {
      "text/plain": [
       "0.004574296000000001"
      ]
     },
     "execution_count": 45,
     "metadata": {},
     "output_type": "execute_result"
    }
   ],
   "source": [
    "binom.pmf(3, 3, 0.166)"
   ]
  },
  {
   "cell_type": "code",
   "execution_count": 46,
   "id": "d68b16af",
   "metadata": {},
   "outputs": [
    {
     "data": {
      "text/plain": [
       "0.5717869999999999"
      ]
     },
     "execution_count": 46,
     "metadata": {},
     "output_type": "execute_result"
    }
   ],
   "source": [
    "binom.pmf(3, 3, 0.83)"
   ]
  },
  {
   "cell_type": "code",
   "execution_count": 47,
   "id": "b8e95adc",
   "metadata": {},
   "outputs": [
    {
     "data": {
      "text/plain": [
       "0.3513390000000001"
      ]
     },
     "execution_count": 47,
     "metadata": {},
     "output_type": "execute_result"
    }
   ],
   "source": [
    "binom.pmf(2, 3, 0.83)"
   ]
  },
  {
   "cell_type": "code",
   "execution_count": 48,
   "id": "43bd692c",
   "metadata": {},
   "outputs": [
    {
     "data": {
      "text/plain": [
       "0.07196100000000004"
      ]
     },
     "execution_count": 48,
     "metadata": {},
     "output_type": "execute_result"
    }
   ],
   "source": [
    "binom.pmf(1, 3, 0.83)"
   ]
  },
  {
   "cell_type": "code",
   "execution_count": 49,
   "id": "5c3e419a",
   "metadata": {},
   "outputs": [
    {
     "data": {
      "text/plain": [
       "0.004913000000000003"
      ]
     },
     "execution_count": 49,
     "metadata": {},
     "output_type": "execute_result"
    }
   ],
   "source": [
    "binom.pmf(0, 3, 0.83)"
   ]
  },
  {
   "cell_type": "code",
   "execution_count": 50,
   "id": "f32f7b85",
   "metadata": {},
   "outputs": [
    {
     "data": {
      "text/plain": [
       "0.498"
      ]
     },
     "execution_count": 50,
     "metadata": {},
     "output_type": "execute_result"
    }
   ],
   "source": [
    "binom.mean(3, 0.166)"
   ]
  },
  {
   "cell_type": "code",
   "execution_count": 51,
   "id": "9b1f9919",
   "metadata": {},
   "outputs": [
    {
     "data": {
      "text/plain": [
       "3.571428571428571"
      ]
     },
     "execution_count": 51,
     "metadata": {},
     "output_type": "execute_result"
    }
   ],
   "source": [
    "geom.mean(0.28)"
   ]
  },
  {
   "cell_type": "code",
   "execution_count": 52,
   "id": "08bf033e",
   "metadata": {},
   "outputs": [
    {
     "data": {
      "text/plain": [
       "0.73126144"
      ]
     },
     "execution_count": 52,
     "metadata": {},
     "output_type": "execute_result"
    }
   ],
   "source": [
    "geom.cdf(4, 0.28)"
   ]
  },
  {
   "cell_type": "code",
   "execution_count": 53,
   "id": "c3e474a9",
   "metadata": {},
   "outputs": [
    {
     "data": {
      "text/plain": [
       "0.24966144"
      ]
     },
     "execution_count": 53,
     "metadata": {},
     "output_type": "execute_result"
    }
   ],
   "source": [
    "((geom.pmf(3, 0.28))+(geom.pmf(4, 0.28)))"
   ]
  },
  {
   "cell_type": "code",
   "execution_count": 54,
   "id": "1834a8b7",
   "metadata": {},
   "outputs": [
    {
     "data": {
      "text/plain": [
       "2.5"
      ]
     },
     "execution_count": 54,
     "metadata": {},
     "output_type": "execute_result"
    }
   ],
   "source": [
    "geom.mean(0.4)"
   ]
  },
  {
   "cell_type": "code",
   "execution_count": 55,
   "id": "5238b9a4",
   "metadata": {},
   "outputs": [
    {
     "data": {
      "text/plain": [
       "0.018662399999999996"
      ]
     },
     "execution_count": 55,
     "metadata": {},
     "output_type": "execute_result"
    }
   ],
   "source": [
    "geom.pmf(7, 0.4)"
   ]
  },
  {
   "cell_type": "code",
   "execution_count": 56,
   "id": "ed0d0861",
   "metadata": {},
   "outputs": [
    {
     "data": {
      "text/plain": [
       "0.2304"
      ]
     },
     "execution_count": 56,
     "metadata": {},
     "output_type": "execute_result"
    }
   ],
   "source": [
    "((geom.pmf(4, 0.4))+(geom.pmf(3, 0.4)))"
   ]
  },
  {
   "cell_type": "code",
   "execution_count": 57,
   "id": "62b01ea9",
   "metadata": {},
   "outputs": [
    {
     "data": {
      "text/plain": [
       "0.91"
      ]
     },
     "execution_count": 57,
     "metadata": {},
     "output_type": "execute_result"
    }
   ],
   "source": [
    "geom.cdf(2, 0.7)"
   ]
  },
  {
   "cell_type": "code",
   "execution_count": 58,
   "id": "e6b81715",
   "metadata": {},
   "outputs": [
    {
     "data": {
      "text/plain": [
       "0.9099999999999999"
      ]
     },
     "execution_count": 58,
     "metadata": {},
     "output_type": "execute_result"
    }
   ],
   "source": [
    "((geom.pmf(1, 0.7))+(geom.pmf(2, 0.7)))"
   ]
  },
  {
   "cell_type": "code",
   "execution_count": 59,
   "id": "5c701765",
   "metadata": {},
   "outputs": [
    {
     "data": {
      "text/plain": [
       "0.09000000000000004"
      ]
     },
     "execution_count": 59,
     "metadata": {},
     "output_type": "execute_result"
    }
   ],
   "source": [
    "((geom.pmf(3, 0.7))+(1-(geom.cdf(3, 0.7))))"
   ]
  },
  {
   "cell_type": "code",
   "execution_count": 60,
   "id": "c66c382c",
   "metadata": {},
   "outputs": [
    {
     "data": {
      "text/plain": [
       "1.4285714285714286"
      ]
     },
     "execution_count": 60,
     "metadata": {},
     "output_type": "execute_result"
    }
   ],
   "source": [
    "geom.mean(0.7)"
   ]
  },
  {
   "cell_type": "code",
   "execution_count": 61,
   "id": "35b1724e",
   "metadata": {},
   "outputs": [
    {
     "data": {
      "text/plain": [
       "3.3333333333333335"
      ]
     },
     "execution_count": 61,
     "metadata": {},
     "output_type": "execute_result"
    }
   ],
   "source": [
    "geom.mean(0.3)"
   ]
  },
  {
   "cell_type": "code",
   "execution_count": 64,
   "id": "bf420e6b",
   "metadata": {},
   "outputs": [
    {
     "data": {
      "text/plain": [
       "3.0"
      ]
     },
     "execution_count": 64,
     "metadata": {},
     "output_type": "execute_result"
    }
   ],
   "source": [
    "binom.mean(20, 0.15)"
   ]
  },
  {
   "cell_type": "code",
   "execution_count": 66,
   "id": "37d0e12f",
   "metadata": {},
   "outputs": [
    {
     "data": {
      "text/plain": [
       "0.9997516180103759"
      ]
     },
     "execution_count": 66,
     "metadata": {},
     "output_type": "execute_result"
    }
   ],
   "source": [
    "binom.cdf(9, 20, 0.15)"
   ]
  },
  {
   "cell_type": "code",
   "execution_count": 67,
   "id": "f455b4e5",
   "metadata": {},
   "outputs": [
    {
     "data": {
      "text/plain": [
       "0.385875"
      ]
     },
     "execution_count": 67,
     "metadata": {},
     "output_type": "execute_result"
    }
   ],
   "source": [
    "geom.cdf(3, 0.15)"
   ]
  },
  {
   "cell_type": "code",
   "execution_count": 68,
   "id": "880a5d28",
   "metadata": {},
   "outputs": [
    {
     "data": {
      "text/plain": [
       "6.666666666666667"
      ]
     },
     "execution_count": 68,
     "metadata": {},
     "output_type": "execute_result"
    }
   ],
   "source": [
    "geom.mean(0.15)"
   ]
  },
  {
   "cell_type": "code",
   "execution_count": 69,
   "id": "52858e4c",
   "metadata": {},
   "outputs": [
    {
     "data": {
      "text/plain": [
       "0.2211"
      ]
     },
     "execution_count": 69,
     "metadata": {},
     "output_type": "execute_result"
    }
   ],
   "source": [
    "geom.pmf(2, 0.33)"
   ]
  },
  {
   "cell_type": "code",
   "execution_count": 70,
   "id": "b734bb23",
   "metadata": {},
   "outputs": [
    {
     "data": {
      "text/plain": [
       "0.0007009804084807056"
      ]
     },
     "execution_count": 70,
     "metadata": {},
     "output_type": "execute_result"
    }
   ],
   "source": [
    "geom.pmf(30, 0.173)"
   ]
  },
  {
   "cell_type": "code",
   "execution_count": 71,
   "id": "a5ade44c",
   "metadata": {},
   "outputs": [
    {
     "data": {
      "text/plain": [
       "0.031303701172304584"
      ]
     },
     "execution_count": 71,
     "metadata": {},
     "output_type": "execute_result"
    }
   ],
   "source": [
    "geom.pmf(10, 0.173)"
   ]
  },
  {
   "cell_type": "code",
   "execution_count": 75,
   "id": "c39efd0a",
   "metadata": {},
   "outputs": [
    {
     "data": {
      "text/plain": [
       "4.0"
      ]
     },
     "execution_count": 75,
     "metadata": {},
     "output_type": "execute_result"
    }
   ],
   "source": [
    "geom.mean(0.25)"
   ]
  },
  {
   "cell_type": "code",
   "execution_count": 73,
   "id": "61622ee3",
   "metadata": {},
   "outputs": [
    {
     "data": {
      "text/plain": [
       "0.01877117156982422"
      ]
     },
     "execution_count": 73,
     "metadata": {},
     "output_type": "execute_result"
    }
   ],
   "source": [
    "geom.pmf(10, 0.25)"
   ]
  },
  {
   "cell_type": "code",
   "execution_count": 74,
   "id": "cdcdf469",
   "metadata": {},
   "outputs": [
    {
     "data": {
      "text/plain": [
       "0.001057070646311331"
      ]
     },
     "execution_count": 74,
     "metadata": {},
     "output_type": "execute_result"
    }
   ],
   "source": [
    "geom.pmf(20, 0.25)"
   ]
  },
  {
   "cell_type": "code",
   "execution_count": 76,
   "id": "0514d855",
   "metadata": {},
   "outputs": [
    {
     "data": {
      "text/plain": [
       "0.7626953125"
      ]
     },
     "execution_count": 76,
     "metadata": {},
     "output_type": "execute_result"
    }
   ],
   "source": [
    "geom.cdf(5, 0.25)"
   ]
  },
  {
   "cell_type": "code",
   "execution_count": 6,
   "id": "cad31e14",
   "metadata": {},
   "outputs": [],
   "source": [
    "import numpy as np\n",
    "import matplotlib.pyplot as plt"
   ]
  },
  {
   "cell_type": "code",
   "execution_count": 8,
   "id": "d1afd134",
   "metadata": {},
   "outputs": [],
   "source": [
    "x=(0,1,2,3,4,5,6,7,8,9,10,11,12,13,14,15)\n",
    "y=(binom.pmf(x, 15, 0.281))"
   ]
  },
  {
   "cell_type": "code",
   "execution_count": 11,
   "id": "1481af04",
   "metadata": {},
   "outputs": [
    {
     "data": {
      "text/plain": [
       "[<matplotlib.lines.Line2D at 0x2364721d090>]"
      ]
     },
     "execution_count": 11,
     "metadata": {},
     "output_type": "execute_result"
    },
    {
     "data": {
      "image/png": "[encoded data removed]",
      "text/plain": [
       "<Figure size 640x480 with 1 Axes>"
      ]
     },
     "metadata": {},
     "output_type": "display_data"
    }
   ],
   "source": [
    "fig=plt.figure()\n",
    "ax=fig.add_axes([0,0,1,1])\n",
    "ax.set_title('X~B(n=15,p=0.28)')\n",
    "ax.set_xlabel('(X=x)')\n",
    "ax.set_ylabel('P(X=x)')\n",
    "plt.plot(x,y)"
   ]
  },
  {
   "cell_type": "code",
   "execution_count": 13,
   "id": "ceeb9c6b",
   "metadata": {},
   "outputs": [
    {
     "data": {
      "text/plain": [
       "4.215000000000001"
      ]
     },
     "execution_count": 13,
     "metadata": {},
     "output_type": "execute_result"
    }
   ],
   "source": [
    "binom.mean(15, 0.281)"
   ]
  },
  {
   "cell_type": "code",
   "execution_count": 14,
   "id": "7000ab93",
   "metadata": {},
   "outputs": [
    {
     "data": {
      "text/plain": [
       "1.7408575473024783"
      ]
     },
     "execution_count": 14,
     "metadata": {},
     "output_type": "execute_result"
    }
   ],
   "source": [
    "binom.std(15, 0.281)"
   ]
  },
  {
   "cell_type": "code",
   "execution_count": 15,
   "id": "cb95744e",
   "metadata": {},
   "outputs": [
    {
     "data": {
      "text/plain": [
       "3.0305850000000003"
      ]
     },
     "execution_count": 15,
     "metadata": {},
     "output_type": "execute_result"
    }
   ],
   "source": [
    "binom.var(15, 0.281)"
   ]
  },
  {
   "cell_type": "code",
   "execution_count": 22,
   "id": "e01ea9ba",
   "metadata": {},
   "outputs": [
    {
     "data": {
      "text/plain": [
       "4.3076923076923075"
      ]
     },
     "execution_count": 22,
     "metadata": {},
     "output_type": "execute_result"
    }
   ],
   "source": [
    "hypergeom.mean(13,8,7)"
   ]
  },
  {
   "cell_type": "code",
   "execution_count": 23,
   "id": "2fc8ffc1",
   "metadata": {},
   "outputs": [
    {
     "data": {
      "text/plain": [
       "3.020833333333333"
      ]
     },
     "execution_count": 23,
     "metadata": {},
     "output_type": "execute_result"
    }
   ],
   "source": [
    "binom.mean(20,29/192)"
   ]
  },
  {
   "cell_type": "code",
   "execution_count": 24,
   "id": "0db456ef",
   "metadata": {},
   "outputs": [
    {
     "data": {
      "text/plain": [
       "1.6014248755231837"
      ]
     },
     "execution_count": 24,
     "metadata": {},
     "output_type": "execute_result"
    }
   ],
   "source": [
    "binom.std(20,29/192)"
   ]
  },
  {
   "cell_type": "code",
   "execution_count": 25,
   "id": "5bc33df2",
   "metadata": {},
   "outputs": [
    {
     "data": {
      "text/plain": [
       "2.857142857142857"
      ]
     },
     "execution_count": 25,
     "metadata": {},
     "output_type": "execute_result"
    }
   ],
   "source": [
    "hypergeom.mean(28, 10, 8)"
   ]
  },
  {
   "cell_type": "code",
   "execution_count": 26,
   "id": "2a4cd807",
   "metadata": {},
   "outputs": [
    {
     "data": {
      "text/plain": [
       "0.07720685111989456"
      ]
     },
     "execution_count": 26,
     "metadata": {},
     "output_type": "execute_result"
    }
   ],
   "source": [
    "((hypergeom.pmf(5,28,10,8))+(1-(hypergeom.cdf(5,28,10,8))))"
   ]
  },
  {
   "cell_type": "code",
   "execution_count": 27,
   "id": "08d451fc",
   "metadata": {},
   "outputs": [
    {
     "data": {
      "text/plain": [
       "0.7160433769129422"
      ]
     },
     "execution_count": 27,
     "metadata": {},
     "output_type": "execute_result"
    }
   ],
   "source": [
    "hypergeom.cdf(3,28,10,8)"
   ]
  },
  {
   "cell_type": "code",
   "execution_count": 28,
   "id": "f4e87979",
   "metadata": {},
   "outputs": [
    {
     "data": {
      "text/plain": [
       "0.75"
      ]
     },
     "execution_count": 28,
     "metadata": {},
     "output_type": "execute_result"
    }
   ],
   "source": [
    "hypergeom.pmf(1,52,1,39)"
   ]
  },
  {
   "cell_type": "code",
   "execution_count": 29,
   "id": "ebdaea7c",
   "metadata": {},
   "outputs": [
    {
     "data": {
      "text/plain": [
       "0.75"
      ]
     },
     "execution_count": 29,
     "metadata": {},
     "output_type": "execute_result"
    }
   ],
   "source": [
    "hypergeom.mean(52,1,39)"
   ]
  },
  {
   "cell_type": "code",
   "execution_count": 30,
   "id": "cc4ceb78",
   "metadata": {},
   "outputs": [
    {
     "data": {
      "text/plain": [
       "0.4330127018922193"
      ]
     },
     "execution_count": 30,
     "metadata": {},
     "output_type": "execute_result"
    }
   ],
   "source": [
    "hypergeom.std(52,1,39)"
   ]
  },
  {
   "cell_type": "code",
   "execution_count": 35,
   "id": "2c87e81b",
   "metadata": {},
   "outputs": [
    {
     "data": {
      "text/plain": [
       "2.345207879911715"
      ]
     },
     "execution_count": 35,
     "metadata": {},
     "output_type": "execute_result"
    }
   ],
   "source": [
    "poisson.std(5.5)"
   ]
  },
  {
   "cell_type": "code",
   "execution_count": 36,
   "id": "cd208807",
   "metadata": {},
   "outputs": [
    {
     "data": {
      "text/plain": [
       "0.686035980282304"
      ]
     },
     "execution_count": 36,
     "metadata": {},
     "output_type": "execute_result"
    }
   ],
   "source": [
    "poisson.cdf(6, 5.5)"
   ]
  },
  {
   "cell_type": "code",
   "execution_count": 37,
   "id": "4d6fbc3a",
   "metadata": {},
   "outputs": [
    {
     "data": {
      "text/plain": [
       "0.15711729375644187"
      ]
     },
     "execution_count": 37,
     "metadata": {},
     "output_type": "execute_result"
    }
   ],
   "source": [
    "poisson.pmf(6,5.5)"
   ]
  },
  {
   "cell_type": "code",
   "execution_count": 38,
   "id": "467da837",
   "metadata": {},
   "outputs": [
    {
     "data": {
      "text/plain": [
       "0.10564332219241379"
      ]
     },
     "execution_count": 38,
     "metadata": {},
     "output_type": "execute_result"
    }
   ],
   "source": [
    "(1-(poisson.cdf(8,5.5)))"
   ]
  },
  {
   "cell_type": "code",
   "execution_count": 39,
   "id": "b26b9fc5",
   "metadata": {},
   "outputs": [
    {
     "data": {
      "text/plain": [
       "1.5811388300841898"
      ]
     },
     "execution_count": 39,
     "metadata": {},
     "output_type": "execute_result"
    }
   ],
   "source": [
    "poisson.std(2.5)"
   ]
  },
  {
   "cell_type": "code",
   "execution_count": 6,
   "id": "9f28e111",
   "metadata": {},
   "outputs": [
    {
     "data": {
      "text/plain": [
       "0.8178548060756421"
      ]
     },
     "execution_count": 6,
     "metadata": {},
     "output_type": "execute_result"
    }
   ],
   "source": [
    "binom.cdf(4, 100, 0.03)"
   ]
  },
  {
   "cell_type": "code",
   "execution_count": 8,
   "id": "e6b783e9",
   "metadata": {},
   "outputs": [
    {
     "data": {
      "text/plain": [
       "0.8152632445237722"
      ]
     },
     "execution_count": 8,
     "metadata": {},
     "output_type": "execute_result"
    }
   ],
   "source": [
    "poisson.cdf(4, 3)"
   ]
  },
  {
   "cell_type": "code",
   "execution_count": 9,
   "id": "dc69492d",
   "metadata": {},
   "outputs": [
    {
     "data": {
      "text/plain": [
       "0.25410695955280027"
      ]
     },
     "execution_count": 9,
     "metadata": {},
     "output_type": "execute_result"
    }
   ],
   "source": [
    "poisson.pmf(0, 1.37)"
   ]
  },
  {
   "cell_type": "code",
   "execution_count": 10,
   "id": "fc3dc639",
   "metadata": {},
   "outputs": [
    {
     "data": {
      "text/plain": [
       "0.6022334941401367"
      ]
     },
     "execution_count": 10,
     "metadata": {},
     "output_type": "execute_result"
    }
   ],
   "source": [
    "poisson.cdf(1, 1.37)"
   ]
  },
  {
   "cell_type": "code",
   "execution_count": 11,
   "id": "afe04a0a",
   "metadata": {},
   "outputs": [
    {
     "data": {
      "text/plain": [
       "0.15929982966753786"
      ]
     },
     "execution_count": 11,
     "metadata": {},
     "output_type": "execute_result"
    }
   ],
   "source": [
    "1-(poisson.cdf(2, 1.37))"
   ]
  },
  {
   "cell_type": "code",
   "execution_count": 12,
   "id": "ac64ac86",
   "metadata": {},
   "outputs": [
    {
     "data": {
      "text/plain": [
       "4.32"
      ]
     },
     "execution_count": 12,
     "metadata": {},
     "output_type": "execute_result"
    }
   ],
   "source": [
    "binom.mean(144, 0.03)"
   ]
  },
  {
   "cell_type": "code",
   "execution_count": 13,
   "id": "d7651deb",
   "metadata": {},
   "outputs": [
    {
     "data": {
      "text/plain": [
       "2.0"
      ]
     },
     "execution_count": 13,
     "metadata": {},
     "output_type": "execute_result"
    }
   ],
   "source": [
    "poisson.mean(2)"
   ]
  },
  {
   "cell_type": "code",
   "execution_count": 14,
   "id": "43afe480",
   "metadata": {},
   "outputs": [
    {
     "data": {
      "text/plain": [
       "0.1353352832366127"
      ]
     },
     "execution_count": 14,
     "metadata": {},
     "output_type": "execute_result"
    }
   ],
   "source": [
    "poisson.pmf(0, 2)"
   ]
  },
  {
   "cell_type": "code",
   "execution_count": 15,
   "id": "9a29116a",
   "metadata": {},
   "outputs": [
    {
     "data": {
      "text/plain": [
       "0.052653017343711084"
      ]
     },
     "execution_count": 15,
     "metadata": {},
     "output_type": "execute_result"
    }
   ],
   "source": [
    "1-(poisson.cdf(4,2))"
   ]
  },
  {
   "cell_type": "code",
   "execution_count": 16,
   "id": "5f96c74d",
   "metadata": {},
   "outputs": [
    {
     "data": {
      "text/plain": [
       "0.00012340980408667956"
      ]
     },
     "execution_count": 16,
     "metadata": {},
     "output_type": "execute_result"
    }
   ],
   "source": [
    "poisson.pmf(0,9)"
   ]
  },
  {
   "cell_type": "code",
   "execution_count": 17,
   "id": "3b319a21",
   "metadata": {},
   "outputs": [
    {
     "data": {
      "text/plain": [
       "0.22313016014842982"
      ]
     },
     "execution_count": 17,
     "metadata": {},
     "output_type": "execute_result"
    }
   ],
   "source": [
    "poisson.pmf(0, 1.5)"
   ]
  },
  {
   "cell_type": "code",
   "execution_count": 18,
   "id": "58d3dd6f",
   "metadata": {},
   "outputs": [
    {
     "data": {
      "text/plain": [
       "0.0007564261846549723"
      ]
     },
     "execution_count": 18,
     "metadata": {},
     "output_type": "execute_result"
    }
   ],
   "source": [
    "poisson.pmf(7,1.5)"
   ]
  },
  {
   "cell_type": "code",
   "execution_count": 20,
   "id": "6d4829f2",
   "metadata": {},
   "outputs": [
    {
     "data": {
      "text/plain": [
       "0.06708596287903189"
      ]
     },
     "execution_count": 20,
     "metadata": {},
     "output_type": "execute_result"
    }
   ],
   "source": [
    "poisson.cdf(5,10)"
   ]
  },
  {
   "cell_type": "code",
   "execution_count": 4,
   "id": "adc6b0ca",
   "metadata": {},
   "outputs": [
    {
     "data": {
      "text/plain": [
       "0.1562934518505317"
      ]
     },
     "execution_count": 4,
     "metadata": {},
     "output_type": "execute_result"
    }
   ],
   "source": [
    "poisson.pmf(5, 4)"
   ]
  },
  {
   "cell_type": "code",
   "execution_count": 5,
   "id": "e740af07",
   "metadata": {},
   "outputs": [
    {
     "data": {
      "text/plain": [
       "0.6288369351798734"
      ]
     },
     "execution_count": 5,
     "metadata": {},
     "output_type": "execute_result"
    }
   ],
   "source": [
    "poisson.cdf(4, 4)"
   ]
  },
  {
   "cell_type": "code",
   "execution_count": 6,
   "id": "5c11c005",
   "metadata": {},
   "outputs": [
    {
     "data": {
      "text/plain": [
       "0.42319008112684364"
      ]
     },
     "execution_count": 6,
     "metadata": {},
     "output_type": "execute_result"
    }
   ],
   "source": [
    "poisson.cdf(2, 3)"
   ]
  },
  {
   "cell_type": "code",
   "execution_count": null,
   "id": "48362a1c",
   "metadata": {},
   "outputs": [],
   "source": []
  }
 ],
 "metadata": {
  "kernelspec": {
   "display_name": "Python 3 (ipykernel)",
   "language": "python",
   "name": "python3"
  },
  "language_info": {
   "codemirror_mode": {
    "name": "ipython",
    "version": 3
   },
   "file_extension": ".py",
   "mimetype": "text/x-python",
   "name": "python",
   "nbconvert_exporter": "python",
   "pygments_lexer": "ipython3",
   "version": "3.11.4"
  }
 },
 "nbformat": 4,
 "nbformat_minor": 5
}
