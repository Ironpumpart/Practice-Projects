{
 "cells": [
  {
   "cell_type": "code",
   "execution_count": 1,
   "id": "6f07d2fd",
   "metadata": {},
   "outputs": [],
   "source": [
    "import numpy as np\n",
    "from scipy.stats import uniform\n",
    "from scipy import stats"
   ]
  },
  {
   "cell_type": "code",
   "execution_count": 2,
   "id": "6772a2ee",
   "metadata": {},
   "outputs": [
    {
     "data": {
      "text/plain": [
       "array([ 0,  1,  2,  3,  4,  5,  6,  7,  8,  9, 10, 11, 12, 13, 14, 15, 16,\n",
       "       17, 18, 19, 20, 21, 22, 23])"
      ]
     },
     "execution_count": 2,
     "metadata": {},
     "output_type": "execute_result"
    }
   ],
   "source": [
    "np.arange(0,24,1)"
   ]
  },
  {
   "cell_type": "code",
   "execution_count": 4,
   "id": "032201bf",
   "metadata": {},
   "outputs": [
    {
     "data": {
      "text/plain": [
       "array([0.08695652, 0.13043478, 0.17391304, 0.2173913 , 0.26086957,\n",
       "       0.30434783, 0.34782609, 0.39130435, 0.43478261, 0.47826087,\n",
       "       0.52173913, 0.56521739, 0.60869565, 0.65217391, 0.69565217,\n",
       "       0.73913043, 0.7826087 ])"
      ]
     },
     "execution_count": 4,
     "metadata": {},
     "output_type": "execute_result"
    }
   ],
   "source": [
    "uniform.cdf(np.arange(2,19,1),loc=0,scale=23)"
   ]
  },
  {
   "cell_type": "code",
   "execution_count": 7,
   "id": "8d783e99",
   "metadata": {},
   "outputs": [
    {
     "data": {
      "text/plain": [
       "array([0.08695652, 0.7826087 ])"
      ]
     },
     "execution_count": 7,
     "metadata": {},
     "output_type": "execute_result"
    }
   ],
   "source": [
    "uniform.cdf((2,18),loc=0,scale=23)"
   ]
  },
  {
   "cell_type": "code",
   "execution_count": 9,
   "id": "d45a20eb",
   "metadata": {},
   "outputs": [
    {
     "data": {
      "text/plain": [
       "array([0.08695652, 0.7826087 ])"
      ]
     },
     "execution_count": 9,
     "metadata": {},
     "output_type": "execute_result"
    }
   ],
   "source": [
    "uniform.cdf((2,18),0,23)"
   ]
  },
  {
   "cell_type": "code",
   "execution_count": 11,
   "id": "3ae833d7",
   "metadata": {},
   "outputs": [
    {
     "data": {
      "text/plain": [
       "0.6956521800000001"
      ]
     },
     "execution_count": 11,
     "metadata": {},
     "output_type": "execute_result"
    }
   ],
   "source": [
    "0.7826087-0.08695652"
   ]
  },
  {
   "cell_type": "code",
   "execution_count": 12,
   "id": "02d1007a",
   "metadata": {},
   "outputs": [
    {
     "data": {
      "text/plain": [
       "array([0.        , 0.83333333])"
      ]
     },
     "execution_count": 12,
     "metadata": {},
     "output_type": "execute_result"
    }
   ],
   "source": [
    "uniform.cdf((0,12.5),0,15)"
   ]
  },
  {
   "cell_type": "code",
   "execution_count": 13,
   "id": "9653b712",
   "metadata": {},
   "outputs": [
    {
     "data": {
      "text/plain": [
       "7.5"
      ]
     },
     "execution_count": 13,
     "metadata": {},
     "output_type": "execute_result"
    }
   ],
   "source": [
    "uniform.mean(0,15)"
   ]
  },
  {
   "cell_type": "code",
   "execution_count": 14,
   "id": "be28fbbd",
   "metadata": {},
   "outputs": [
    {
     "data": {
      "text/plain": [
       "4.330127018922194"
      ]
     },
     "execution_count": 14,
     "metadata": {},
     "output_type": "execute_result"
    }
   ],
   "source": [
    "uniform.std(0,15)"
   ]
  },
  {
   "cell_type": "code",
   "execution_count": 15,
   "id": "95dacb44",
   "metadata": {},
   "outputs": [
    {
     "data": {
      "text/plain": [
       "array([0.42857143, 1.        ])"
      ]
     },
     "execution_count": 15,
     "metadata": {},
     "output_type": "execute_result"
    }
   ],
   "source": [
    "uniform.cdf((2,4),0.5,4-0.5)"
   ]
  },
  {
   "cell_type": "code",
   "execution_count": 16,
   "id": "47e29bec",
   "metadata": {},
   "outputs": [
    {
     "data": {
      "text/plain": [
       "0.57142857"
      ]
     },
     "execution_count": 16,
     "metadata": {},
     "output_type": "execute_result"
    }
   ],
   "source": [
    "1-0.42857143"
   ]
  },
  {
   "cell_type": "code",
   "execution_count": 17,
   "id": "2ccb8778",
   "metadata": {},
   "outputs": [
    {
     "data": {
      "text/plain": [
       "array([0.8, 1. ])"
      ]
     },
     "execution_count": 17,
     "metadata": {},
     "output_type": "execute_result"
    }
   ],
   "source": [
    "uniform.cdf((19,21),11,21-11)"
   ]
  },
  {
   "cell_type": "code",
   "execution_count": 2,
   "id": "11839818",
   "metadata": {},
   "outputs": [],
   "source": [
    "from scipy.stats import expon"
   ]
  },
  {
   "cell_type": "code",
   "execution_count": 25,
   "id": "4051ca1c",
   "metadata": {},
   "outputs": [
    {
     "data": {
      "text/plain": [
       "0.7134952031398099"
      ]
     },
     "execution_count": 25,
     "metadata": {},
     "output_type": "execute_result"
    }
   ],
   "source": [
    "expon.cdf(x=5,scale=4)"
   ]
  },
  {
   "cell_type": "code",
   "execution_count": 24,
   "id": "d95056d5",
   "metadata": {},
   "outputs": [
    {
     "data": {
      "text/plain": [
       "0.6321205588285577"
      ]
     },
     "execution_count": 24,
     "metadata": {},
     "output_type": "execute_result"
    }
   ],
   "source": [
    "expon.cdf(x=4,scale=4)"
   ]
  },
  {
   "cell_type": "code",
   "execution_count": 3,
   "id": "f4491bb2",
   "metadata": {},
   "outputs": [],
   "source": [
    "import matplotlib.pyplot as plt"
   ]
  },
  {
   "cell_type": "code",
   "execution_count": 28,
   "id": "01ba551f",
   "metadata": {},
   "outputs": [],
   "source": [
    "x=expon.rvs(scale=4, size=10000)"
   ]
  },
  {
   "cell_type": "code",
   "execution_count": 29,
   "id": "5708aac6",
   "metadata": {},
   "outputs": [
    {
     "data": {
      "text/plain": [
       "(array([1.72491689e-01, 8.01427864e-02, 3.77104735e-02, 1.63176495e-02,\n",
       "        7.00245589e-03, 4.33638323e-03, 1.86303872e-03, 8.35155290e-04,\n",
       "        3.53334930e-04, 1.60606786e-04]),\n",
       " array([5.74654189e-05, 3.11325094e+00, 6.22644442e+00, 9.33963790e+00,\n",
       "        1.24528314e+01, 1.55660249e+01, 1.86792183e+01, 2.17924118e+01,\n",
       "        2.49056053e+01, 2.80187988e+01, 3.11319922e+01]),\n",
       " <BarContainer object of 10 artists>)"
      ]
     },
     "execution_count": 29,
     "metadata": {},
     "output_type": "execute_result"
    },
    {
     "data": {
      "image/png": "[encoded data removed]",
      "text/plain": [
       "<Figure size 640x480 with 1 Axes>"
      ]
     },
     "metadata": {},
     "output_type": "display_data"
    }
   ],
   "source": [
    "plt.hist(x, density=True, edgecolor='black')"
   ]
  },
  {
   "cell_type": "code",
   "execution_count": 30,
   "id": "5ea31bef",
   "metadata": {},
   "outputs": [
    {
     "data": {
      "text/plain": [
       "0.6"
      ]
     },
     "execution_count": 30,
     "metadata": {},
     "output_type": "execute_result"
    }
   ],
   "source": [
    "uniform.cdf(x=3, loc=1.5, scale=2.5)"
   ]
  },
  {
   "cell_type": "code",
   "execution_count": 31,
   "id": "0664682b",
   "metadata": {},
   "outputs": [
    {
     "data": {
      "text/plain": [
       "array([0. , 0.6])"
      ]
     },
     "execution_count": 31,
     "metadata": {},
     "output_type": "execute_result"
    }
   ],
   "source": [
    "uniform.cdf((1.5,3),1.5,2.5)"
   ]
  },
  {
   "cell_type": "code",
   "execution_count": 32,
   "id": "65ece886",
   "metadata": {},
   "outputs": [
    {
     "data": {
      "text/plain": [
       "0.8"
      ]
     },
     "execution_count": 32,
     "metadata": {},
     "output_type": "execute_result"
    }
   ],
   "source": [
    "1-(uniform.cdf(x=2, loc=1.5, scale=2.5))"
   ]
  },
  {
   "cell_type": "code",
   "execution_count": 33,
   "id": "36fa08f4",
   "metadata": {},
   "outputs": [
    {
     "data": {
      "text/plain": [
       "0.6"
      ]
     },
     "execution_count": 33,
     "metadata": {},
     "output_type": "execute_result"
    }
   ],
   "source": [
    "uniform.cdf(3,1.5,2.5)"
   ]
  },
  {
   "cell_type": "code",
   "execution_count": 4,
   "id": "ba2b3835",
   "metadata": {},
   "outputs": [
    {
     "data": {
      "text/plain": [
       "0.4965853037914095"
      ]
     },
     "execution_count": 4,
     "metadata": {},
     "output_type": "execute_result"
    }
   ],
   "source": [
    "1-(expon.cdf(x=7, scale=10))"
   ]
  },
  {
   "cell_type": "code",
   "execution_count": 5,
   "id": "ab97f5de",
   "metadata": {},
   "outputs": [
    {
     "data": {
      "text/plain": [
       "0.5934303402594009"
      ]
     },
     "execution_count": 5,
     "metadata": {},
     "output_type": "execute_result"
    }
   ],
   "source": [
    "expon.cdf(x=9, scale=10)"
   ]
  },
  {
   "cell_type": "code",
   "execution_count": 6,
   "id": "ff81ad7b",
   "metadata": {},
   "outputs": [
    {
     "data": {
      "text/plain": [
       "0.6671289163019205"
      ]
     },
     "execution_count": 6,
     "metadata": {},
     "output_type": "execute_result"
    }
   ],
   "source": [
    "expon.cdf(x=11, scale=10)"
   ]
  },
  {
   "cell_type": "code",
   "execution_count": 7,
   "id": "f1046f03",
   "metadata": {},
   "outputs": [
    {
     "data": {
      "text/plain": [
       "0.07369857604251961"
      ]
     },
     "execution_count": 7,
     "metadata": {},
     "output_type": "execute_result"
    }
   ],
   "source": [
    "0.6671289163019205-0.5934303402594009"
   ]
  },
  {
   "cell_type": "code",
   "execution_count": 8,
   "id": "eb5be959",
   "metadata": {},
   "outputs": [
    {
     "data": {
      "text/plain": [
       "0.4345982085070782"
      ]
     },
     "execution_count": 8,
     "metadata": {},
     "output_type": "execute_result"
    }
   ],
   "source": [
    "1-(expon.cdf(x=15, scale=18))"
   ]
  },
  {
   "cell_type": "code",
   "execution_count": 9,
   "id": "fb6492aa",
   "metadata": {},
   "outputs": [
    {
     "data": {
      "text/plain": [
       "0.6592406302004438"
      ]
     },
     "execution_count": 9,
     "metadata": {},
     "output_type": "execute_result"
    }
   ],
   "source": [
    "1-(expon.cdf(x=5, scale=12))"
   ]
  },
  {
   "cell_type": "code",
   "execution_count": 10,
   "id": "e0176b6e",
   "metadata": {},
   "outputs": [
    {
     "data": {
      "text/plain": [
       "0.28650479686019015"
      ]
     },
     "execution_count": 10,
     "metadata": {},
     "output_type": "execute_result"
    }
   ],
   "source": [
    "1-(expon.cdf(x=25, scale=20))"
   ]
  },
  {
   "cell_type": "code",
   "execution_count": 11,
   "id": "7657736f",
   "metadata": {},
   "outputs": [
    {
     "data": {
      "text/plain": [
       "0.3934693402873666"
      ]
     },
     "execution_count": 11,
     "metadata": {},
     "output_type": "execute_result"
    }
   ],
   "source": [
    "expon.cdf(x=1, scale=2)"
   ]
  },
  {
   "cell_type": "code",
   "execution_count": 12,
   "id": "f1564906",
   "metadata": {},
   "outputs": [
    {
     "data": {
      "text/plain": [
       "0.08208499862389884"
      ]
     },
     "execution_count": 12,
     "metadata": {},
     "output_type": "execute_result"
    }
   ],
   "source": [
    "1-(expon.cdf(x=5, scale=2))"
   ]
  },
  {
   "cell_type": "code",
   "execution_count": 18,
   "id": "0b2b2f21",
   "metadata": {},
   "outputs": [
    {
     "data": {
      "text/plain": [
       "0.8111243971624382"
      ]
     },
     "execution_count": 18,
     "metadata": {},
     "output_type": "execute_result"
    }
   ],
   "source": [
    "expon.cdf(x=20, scale=12)"
   ]
  },
  {
   "cell_type": "code",
   "execution_count": 19,
   "id": "58ee4093",
   "metadata": {},
   "outputs": [
    {
     "data": {
      "text/plain": [
       "0.28650479686019015"
      ]
     },
     "execution_count": 19,
     "metadata": {},
     "output_type": "execute_result"
    }
   ],
   "source": [
    "1-(expon.cdf(x=15, scale=12))"
   ]
  },
  {
   "cell_type": "code",
   "execution_count": 3,
   "id": "28a3afc9",
   "metadata": {},
   "outputs": [
    {
     "data": {
      "text/plain": [
       "0.4723665527410147"
      ]
     },
     "execution_count": 3,
     "metadata": {},
     "output_type": "execute_result"
    }
   ],
   "source": [
    "1-(expon.cdf(x=3, scale=4))"
   ]
  },
  {
   "cell_type": "code",
   "execution_count": 4,
   "id": "b35688d4",
   "metadata": {},
   "outputs": [
    {
     "data": {
      "text/plain": [
       "0.41686201967850844"
      ]
     },
     "execution_count": 4,
     "metadata": {},
     "output_type": "execute_result"
    }
   ],
   "source": [
    "1-(expon.cdf(x=7, scale=8))"
   ]
  },
  {
   "cell_type": "code",
   "execution_count": 5,
   "id": "bc530999",
   "metadata": {},
   "outputs": [
    {
     "data": {
      "text/plain": [
       "0.486582880967408"
      ]
     },
     "execution_count": 5,
     "metadata": {},
     "output_type": "execute_result"
    }
   ],
   "source": [
    "expon.cdf(x=1/6, scale=0.25)"
   ]
  },
  {
   "cell_type": "code",
   "execution_count": 6,
   "id": "291627e6",
   "metadata": {},
   "outputs": [
    {
     "data": {
      "text/plain": [
       "0.513417119032592"
      ]
     },
     "execution_count": 6,
     "metadata": {},
     "output_type": "execute_result"
    }
   ],
   "source": [
    "1-(expon.cdf(x=2, scale=3))"
   ]
  },
  {
   "cell_type": "code",
   "execution_count": 2,
   "id": "e698efb4",
   "metadata": {},
   "outputs": [],
   "source": [
    "from scipy.stats import norm"
   ]
  },
  {
   "cell_type": "code",
   "execution_count": 4,
   "id": "dcbff76f",
   "metadata": {},
   "outputs": [
    {
     "data": {
      "text/plain": [
       "0.3445782583896758"
      ]
     },
     "execution_count": 4,
     "metadata": {},
     "output_type": "execute_result"
    }
   ],
   "source": [
    "1-(norm.cdf(65,63,5))"
   ]
  },
  {
   "cell_type": "code",
   "execution_count": 5,
   "id": "d3366da5",
   "metadata": {},
   "outputs": [
    {
     "data": {
      "text/plain": [
       "0.9999945874560923"
      ]
     },
     "execution_count": 5,
     "metadata": {},
     "output_type": "execute_result"
    }
   ],
   "source": [
    "norm.cdf(85,63,5)"
   ]
  },
  {
   "cell_type": "code",
   "execution_count": 7,
   "id": "be0ed772",
   "metadata": {},
   "outputs": [
    {
     "data": {
      "text/plain": [
       "0.15865525393145707"
      ]
     },
     "execution_count": 7,
     "metadata": {},
     "output_type": "execute_result"
    }
   ],
   "source": [
    "norm.cdf(65,68,3)"
   ]
  },
  {
   "cell_type": "code",
   "execution_count": 8,
   "id": "ca63c390",
   "metadata": {},
   "outputs": [
    {
     "data": {
      "text/plain": [
       "0.3445782583896759"
      ]
     },
     "execution_count": 8,
     "metadata": {},
     "output_type": "execute_result"
    }
   ],
   "source": [
    "norm.cdf(1.8,2,0.5)"
   ]
  },
  {
   "cell_type": "code",
   "execution_count": 9,
   "id": "7fa16c86",
   "metadata": {},
   "outputs": [
    {
     "data": {
      "text/plain": [
       "0.9331927987311419"
      ]
     },
     "execution_count": 9,
     "metadata": {},
     "output_type": "execute_result"
    }
   ],
   "source": [
    "norm.cdf(2.75,2,0.5)"
   ]
  },
  {
   "cell_type": "code",
   "execution_count": 10,
   "id": "a1f67357",
   "metadata": {},
   "outputs": [
    {
     "data": {
      "text/plain": [
       "0.8185946141203637"
      ]
     },
     "execution_count": 10,
     "metadata": {},
     "output_type": "execute_result"
    }
   ],
   "source": [
    "(norm.cdf(64.7,36.9,13.9))-(norm.cdf(23,36.9,13.9))"
   ]
  },
  {
   "cell_type": "code",
   "execution_count": 11,
   "id": "725a2454",
   "metadata": {},
   "outputs": [
    {
     "data": {
      "text/plain": [
       "0.8413447460685429"
      ]
     },
     "execution_count": 11,
     "metadata": {},
     "output_type": "execute_result"
    }
   ],
   "source": [
    "norm.cdf(50.8,36.9,13.9)"
   ]
  },
  {
   "cell_type": "code",
   "execution_count": 12,
   "id": "4f0abc7b",
   "metadata": {},
   "outputs": [
    {
     "data": {
      "text/plain": [
       "0.23816111449905436"
      ]
     },
     "execution_count": 12,
     "metadata": {},
     "output_type": "execute_result"
    }
   ],
   "source": [
    "norm.cdf(27,36.9,13.9)"
   ]
  },
  {
   "cell_type": "code",
   "execution_count": 14,
   "id": "7e4500bb",
   "metadata": {},
   "outputs": [
    {
     "data": {
      "text/plain": [
       "0.2659855290487"
      ]
     },
     "execution_count": 14,
     "metadata": {},
     "output_type": "execute_result"
    }
   ],
   "source": [
    "1-(norm.cdf(6,5.85,0.24))"
   ]
  },
  {
   "cell_type": "code",
   "execution_count": 4,
   "id": "d2680420",
   "metadata": {},
   "outputs": [
    {
     "data": {
      "text/plain": [
       "0.6997171101802624"
      ]
     },
     "execution_count": 4,
     "metadata": {},
     "output_type": "execute_result"
    }
   ],
   "source": [
    "norm.cdf(92,90,15/5)-norm.cdf(85,90,15/5)"
   ]
  },
  {
   "cell_type": "code",
   "execution_count": 5,
   "id": "31ab7f66",
   "metadata": {},
   "outputs": [
    {
     "data": {
      "text/plain": [
       "0.9797530979336151"
      ]
     },
     "execution_count": 5,
     "metadata": {},
     "output_type": "execute_result"
    }
   ],
   "source": [
    "norm.cdf(50,45,8/5.48)-norm.cdf(42,45,8/5.48)"
   ]
  },
  {
   "cell_type": "code",
   "execution_count": 6,
   "id": "db760153",
   "metadata": {},
   "outputs": [
    {
     "data": {
      "text/plain": [
       "0.9976469328385731"
      ]
     },
     "execution_count": 6,
     "metadata": {},
     "output_type": "execute_result"
    }
   ],
   "source": [
    "norm.cdf(2.3,2,0.5/7.07)-norm.cdf(1.8,2,0.5/7.07)"
   ]
  },
  {
   "cell_type": "code",
   "execution_count": 7,
   "id": "ca933d00",
   "metadata": {},
   "outputs": [
    {
     "data": {
      "text/plain": [
       "1.0"
      ]
     },
     "execution_count": 7,
     "metadata": {},
     "output_type": "execute_result"
    }
   ],
   "source": [
    "norm.cdf(3,2.5,0.25/7.75)-norm.cdf(2,2.5,0.25/7.75)"
   ]
  },
  {
   "cell_type": "code",
   "execution_count": 8,
   "id": "a5cc185e",
   "metadata": {},
   "outputs": [
    {
     "data": {
      "text/plain": [
       "0.9961696194324102"
      ]
     },
     "execution_count": 8,
     "metadata": {},
     "output_type": "execute_result"
    }
   ],
   "source": [
    "1-(norm.cdf(30,34,1.5))"
   ]
  },
  {
   "cell_type": "code",
   "execution_count": 10,
   "id": "ab2e560e",
   "metadata": {},
   "outputs": [
    {
     "data": {
      "text/plain": [
       "0.927523969049869"
      ]
     },
     "execution_count": 10,
     "metadata": {},
     "output_type": "execute_result"
    }
   ],
   "source": [
    "norm.cdf(8.5,8.2,0.13)-norm.cdf(8,8.2,0.13)"
   ]
  },
  {
   "cell_type": "code",
   "execution_count": 11,
   "id": "5c18c246",
   "metadata": {},
   "outputs": [
    {
     "data": {
      "text/plain": [
       "0.34457825838965284"
      ]
     },
     "execution_count": 11,
     "metadata": {},
     "output_type": "execute_result"
    }
   ],
   "source": [
    "1-(norm.cdf(16.01,16,0.025))"
   ]
  },
  {
   "cell_type": "code",
   "execution_count": 5,
   "id": "5f8e887b",
   "metadata": {},
   "outputs": [
    {
     "data": {
      "text/plain": [
       "0.29546114246273614"
      ]
     },
     "execution_count": 5,
     "metadata": {},
     "output_type": "execute_result"
    }
   ],
   "source": [
    "norm.cdf(16,16.43,0.8)"
   ]
  },
  {
   "cell_type": "code",
   "execution_count": 7,
   "id": "9b8012de",
   "metadata": {},
   "outputs": [
    {
     "data": {
      "text/plain": [
       "0.4557641189546886"
      ]
     },
     "execution_count": 7,
     "metadata": {},
     "output_type": "execute_result"
    }
   ],
   "source": [
    "norm.cdf(16,16.43,3.87)"
   ]
  },
  {
   "cell_type": "code",
   "execution_count": 8,
   "id": "e811829c",
   "metadata": {},
   "outputs": [
    {
     "data": {
      "text/plain": [
       "0.01875703454559677"
      ]
     },
     "execution_count": 8,
     "metadata": {},
     "output_type": "execute_result"
    }
   ],
   "source": [
    "norm.cdf(16,16.43,0.8/3.87)"
   ]
  },
  {
   "cell_type": "code",
   "execution_count": 9,
   "id": "535481de",
   "metadata": {},
   "outputs": [
    {
     "data": {
      "text/plain": [
       "0.0"
      ]
     },
     "execution_count": 9,
     "metadata": {},
     "output_type": "execute_result"
    }
   ],
   "source": [
    "1-(norm.cdf(45,40,2/4.47))"
   ]
  },
  {
   "cell_type": "code",
   "execution_count": 10,
   "id": "0f5f8d96",
   "metadata": {},
   "outputs": [
    {
     "data": {
      "text/plain": [
       "0.13286749009398102"
      ]
     },
     "execution_count": 10,
     "metadata": {},
     "output_type": "execute_result"
    }
   ],
   "source": [
    "1-(norm.cdf(286.17,275,55/5.48))"
   ]
  },
  {
   "cell_type": "code",
   "execution_count": 9,
   "id": "7281fae6",
   "metadata": {},
   "outputs": [
    {
     "data": {
      "text/plain": [
       "0.02395085480306558"
      ]
     },
     "execution_count": 9,
     "metadata": {},
     "output_type": "execute_result"
    }
   ],
   "source": [
    "1-(norm.cdf(67,65,1.011))"
   ]
  },
  {
   "cell_type": "code",
   "execution_count": 25,
   "id": "bc768f39",
   "metadata": {},
   "outputs": [
    {
     "data": {
      "text/plain": [
       "0.27425311775007344"
      ]
     },
     "execution_count": 25,
     "metadata": {},
     "output_type": "execute_result"
    }
   ],
   "source": [
    "norm.cdf(0.47,0.5,0.05)"
   ]
  },
  {
   "cell_type": "code",
   "execution_count": 27,
   "id": "5e4fc7c2",
   "metadata": {},
   "outputs": [
    {
     "data": {
      "text/plain": [
       "0.08075665923377118"
      ]
     },
     "execution_count": 27,
     "metadata": {},
     "output_type": "execute_result"
    }
   ],
   "source": [
    "norm.cdf(0.78,0.85,0.05)"
   ]
  },
  {
   "cell_type": "code",
   "execution_count": 28,
   "id": "5a6f65ee",
   "metadata": {},
   "outputs": [
    {
     "data": {
      "text/plain": [
       "0.36266238732780315"
      ]
     },
     "execution_count": 28,
     "metadata": {},
     "output_type": "execute_result"
    }
   ],
   "source": [
    "norm.cdf(0.287,0.3,0.037)"
   ]
  },
  {
   "cell_type": "code",
   "execution_count": 29,
   "id": "f5bcc9c7",
   "metadata": {},
   "outputs": [
    {
     "data": {
      "text/plain": [
       "0.0046048979370525885"
      ]
     },
     "execution_count": 29,
     "metadata": {},
     "output_type": "execute_result"
    }
   ],
   "source": [
    "norm.cdf(0.87,0.92,0.0192)"
   ]
  },
  {
   "cell_type": "code",
   "execution_count": 31,
   "id": "2bd07323",
   "metadata": {},
   "outputs": [
    {
     "data": {
      "text/plain": [
       "0.010349426750342006"
      ]
     },
     "execution_count": 31,
     "metadata": {},
     "output_type": "execute_result"
    }
   ],
   "source": [
    "1-(norm.cdf(0.405,0.25,0.067))"
   ]
  },
  {
   "cell_type": "code",
   "execution_count": 3,
   "id": "faa1d88b",
   "metadata": {},
   "outputs": [
    {
     "data": {
      "text/plain": [
       "0.010323580500816736"
      ]
     },
     "execution_count": 3,
     "metadata": {},
     "output_type": "execute_result"
    }
   ],
   "source": [
    "norm.cdf(46500,50000,8000/5.29)"
   ]
  },
  {
   "cell_type": "code",
   "execution_count": 4,
   "id": "b5c69554",
   "metadata": {},
   "outputs": [
    {
     "data": {
      "text/plain": [
       "0.003356922538414087"
      ]
     },
     "execution_count": 4,
     "metadata": {},
     "output_type": "execute_result"
    }
   ],
   "source": [
    "norm.cdf(18.1,19,2.1/6.325)"
   ]
  },
  {
   "cell_type": "code",
   "execution_count": 3,
   "id": "b71a52f8",
   "metadata": {},
   "outputs": [
    {
     "data": {
      "text/plain": [
       "0.19324508089419268"
      ]
     },
     "execution_count": 3,
     "metadata": {},
     "output_type": "execute_result"
    }
   ],
   "source": [
    "norm.cdf(0.95,1,0.2/3.464)"
   ]
  },
  {
   "cell_type": "code",
   "execution_count": 4,
   "id": "00f22724",
   "metadata": {},
   "outputs": [
    {
     "data": {
      "text/plain": [
       "0.009815328628645375"
      ]
     },
     "execution_count": 4,
     "metadata": {},
     "output_type": "execute_result"
    }
   ],
   "source": [
    "norm.cdf(0.53,0.6,0.03)"
   ]
  },
  {
   "cell_type": "code",
   "execution_count": 5,
   "id": "539969de",
   "metadata": {},
   "outputs": [
    {
     "data": {
      "text/plain": [
       "0.05111406314983323"
      ]
     },
     "execution_count": 5,
     "metadata": {},
     "output_type": "execute_result"
    }
   ],
   "source": [
    "norm.cdf(0.4,0.467,0.041)"
   ]
  },
  {
   "cell_type": "code",
   "execution_count": 3,
   "id": "22804fba",
   "metadata": {},
   "outputs": [
    {
     "data": {
      "text/plain": [
       "0.0038303805675897287"
      ]
     },
     "execution_count": 3,
     "metadata": {},
     "output_type": "execute_result"
    }
   ],
   "source": [
    "norm.cdf(0.026,0.13,0.039)"
   ]
  },
  {
   "cell_type": "code",
   "execution_count": 3,
   "id": "65b20fad",
   "metadata": {},
   "outputs": [
    {
     "data": {
      "text/plain": [
       "0.005969088995522065"
      ]
     },
     "execution_count": 3,
     "metadata": {},
     "output_type": "execute_result"
    }
   ],
   "source": [
    "1-(norm.cdf(9,0,3.58))"
   ]
  },
  {
   "cell_type": "code",
   "execution_count": null,
   "id": "72a9650f",
   "metadata": {},
   "outputs": [],
   "source": []
  }
 ],
 "metadata": {
  "kernelspec": {
   "display_name": "Python [conda env:base] *",
   "language": "python",
   "name": "conda-base-py"
  },
  "language_info": {
   "codemirror_mode": {
    "name": "ipython",
    "version": 3
   },
   "file_extension": ".py",
   "mimetype": "text/x-python",
   "name": "python",
   "nbconvert_exporter": "python",
   "pygments_lexer": "ipython3",
   "version": "3.11.4"
  }
 },
 "nbformat": 4,
 "nbformat_minor": 5
}
